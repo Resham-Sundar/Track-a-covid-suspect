{
 "cells": [
  {
   "cell_type": "code",
   "execution_count": 2,
   "metadata": {},
   "outputs": [],
   "source": [
    "import cv2\n",
    "import numpy as np"
   ]
  },
  {
   "cell_type": "code",
   "execution_count": 3,
   "metadata": {},
   "outputs": [],
   "source": [
    "confThreshold=0.25\n",
    "nmsThreshold=0.40\n",
    "inpWidth=416\n",
    "inpHeight=416\n",
    "risk_count=0\n",
    "low_risk_count=0\n",
    "safe_count=0"
   ]
  },
  {
   "cell_type": "code",
   "execution_count": 4,
   "metadata": {},
   "outputs": [],
   "source": [
    "def how_close(x1,y1,x2,y2):\n",
    "    if dist(x1,y1,x2,y2)>15 and dist(x1,y1,x2,y2)<150:\n",
    "        return 1\n",
    "    elif dist(x1,y1,x2,y2)>=150 and dist(x1,y1,x2,y2)<=300:\n",
    "        return 2\n",
    "    elif dist(x1,y1,x2,y2)>300:\n",
    "        return 3"
   ]
  },
  {
   "cell_type": "code",
   "execution_count": 5,
   "metadata": {},
   "outputs": [],
   "source": [
    "def dist(x1,y1,x2,y2):\n",
    "    dis=((x1-x2)**2 + (y1-y2)**2) ** 0.5\n",
    "    return dis"
   ]
  },
  {
   "cell_type": "code",
   "execution_count": 6,
   "metadata": {},
   "outputs": [],
   "source": [
    "def getOutputsNames(net):\n",
    "    layerNames=net.getLayerNames()\n",
    "    return [layerNames[i[0]-1] for i in net.getUnconnectedOutLayers()]"
   ]
  },
  {
   "cell_type": "code",
   "execution_count": 7,
   "metadata": {},
   "outputs": [],
   "source": [
    "def drawPred(classId,conf,left,top,right,bottom):\n",
    "    cv2.rectangle(frame,(left,top),(right,bottom),(255,178,50),3)"
   ]
  },
  {
   "cell_type": "code",
   "execution_count": 8,
   "metadata": {},
   "outputs": [],
   "source": [
    "def postprocess(frame,outs):\n",
    "    frameHeight=frame.shape[0]\n",
    "    frameWidth=frame.shape[1]\n",
    "    classIDs=[]\n",
    "    confidences=[]\n",
    "    boxes=[]\n",
    "    center=[]\n",
    "    status=[]\n",
    "    \n",
    "    for out in outs:\n",
    "        for detection in out:\n",
    "            scores=detection[5:]\n",
    "            classID=np.argmax(scores)\n",
    "            confidence=scores[classID]\n",
    "\n",
    "            if classes[classID]=='p':\n",
    "                if confidence>confThreshold:\n",
    "                    centerX=int(detection[0]*frameWidth)\n",
    "                    centerY=int(detection[1]*frameHeight)\n",
    "\n",
    "                    width=int(detection[2]*frameWidth)\n",
    "                    height=int(detection[3]*frameHeight)\n",
    "\n",
    "                    left=int(centerX- width/2)\n",
    "                    top=int(centerY- height/2)\n",
    "\n",
    "                    classIDs.append(classID)\n",
    "                    confidences.append(float(confidence))\n",
    "                    boxes.append([left,top,width,height])\n",
    "    indices=cv2.dnn.NMSBoxes(boxes,confidences,confThreshold,nmsThreshold)\n",
    "    \n",
    "    for i in indices:\n",
    "        sub_part=frame[frameHeight - 950:frameHeight-720, 20:490]\n",
    "        black_rect = np.zeros(sub_part.shape, dtype=np.uint8)\n",
    "        res = cv2.addWeighted(sub_part, 0.90, black_rect, 0.10, 0.5)\n",
    "        frame[frameHeight - 950:frameHeight-720, 20:490]=res\n",
    "        high_risk_person=0\n",
    "        low_risk_person=0\n",
    "        safe_person=0\n",
    "        i=i[0]\n",
    "        box=boxes[i]\n",
    "        left=box[0]\n",
    "        top=box[1]\n",
    "        width=box[2]\n",
    "        height=box[3]\n",
    "        if ((left > (x-7.5) and left < (x+7.5)) or (top > (y-7.5) and top < (y+7.5))):\n",
    "            continue\n",
    "        else:\n",
    "            drawPred(classIDs[i],confidences[i],left,top,left+width,top+height)\n",
    "        center.append([int(left+width/2),int(top+height/2)])\n",
    "        \n",
    "        for i in range(len(center)):\n",
    "            pts=[int(center[i][j]/3) for j in range(2)]\n",
    "        \n",
    "        for i in range(len(center)):\n",
    "            d=how_close(x+w/2,y+h/2,center[i][0],center[i][1])\n",
    "            if d==1:\n",
    "                cv2.line(frame,(int(x+w/2),int(y+h/2)),(int(center[i][0]),int(center[i][1])),(0,0,255),2)\n",
    "                high_risk_person=high_risk_person+1\n",
    "                if(high_risk_person>0):\n",
    "                    high_risk_person=high_risk_person\n",
    "                else:\n",
    "                    high_risk_person=0\n",
    "                total_high_risk_count=\"Risk Count : \"+str(high_risk_person)\n",
    "                cv2.putText(frame, total_high_risk_count,(100,200), cv2.FONT_HERSHEY_TRIPLEX, 1,(0,0,255),4)\n",
    "            elif d==2:\n",
    "                cv2.line(frame,(int(x+w/2),int(y+h/2)),(int(center[i][0]),int(center[i][1])),(0,123,255),2)\n",
    "                low_risk_person=low_risk_person+1\n",
    "                if(low_risk_person>0):\n",
    "                    low_risk_person=low_risk_person\n",
    "                else:\n",
    "                    low_risk_person=0\n",
    "                total_low_risk_count=\"Low Risk Count : \"+str(low_risk_person)\n",
    "                cv2.putText(frame, total_low_risk_count,(100,250), cv2.FONT_HERSHEY_TRIPLEX, 1,(0,123,255),4)\n",
    "            else:\n",
    "                cv2.line(frame,(int(x+w/2),int(y+h/2)),(int(center[i][0]),int(center[i][1])),(0,191,0),2)\n",
    "                safe_person=safe_person+1\n",
    "                if(safe_person>0):\n",
    "                    safe_person=safe_person\n",
    "                else:\n",
    "                    safe_person=0\n",
    "                total_safe_count=\"Safe Count : \"+str(safe_person)\n",
    "                #cv2.putText(frame, total_safe_count,(100,300), cv2.FONT_HERSHEY_TRIPLEX, 1,(0,191,0),4)\n"
   ]
  },
  {
   "cell_type": "code",
   "execution_count": 9,
   "metadata": {},
   "outputs": [],
   "source": [
    "classesFile=\"bin/coco.names\"\n",
    "classes=None"
   ]
  },
  {
   "cell_type": "code",
   "execution_count": 10,
   "metadata": {},
   "outputs": [],
   "source": [
    "with open(classesFile,'rt') as f:\n",
    "    classes=f.read().strip(\"\\n\")"
   ]
  },
  {
   "cell_type": "code",
   "execution_count": 11,
   "metadata": {},
   "outputs": [],
   "source": [
    "modelConf=\"bin/yolov3.cfg\"\n",
    "modelWeights=\"bin/yolov3.weights\""
   ]
  },
  {
   "cell_type": "code",
   "execution_count": 12,
   "metadata": {},
   "outputs": [],
   "source": [
    "net=cv2.dnn.readNetFromDarknet(modelConf,modelWeights)\n",
    "net.setPreferableBackend(cv2.dnn.DNN_BACKEND_OPENCV)\n",
    "net.setPreferableTarget(cv2.dnn.DNN_TARGET_CPU)"
   ]
  },
  {
   "cell_type": "code",
   "execution_count": 13,
   "metadata": {},
   "outputs": [],
   "source": [
    "winName='Tracker'\n",
    "tracker=cv2.TrackerCSRT_create()\n",
    "black_window=np.zeros((200,333),dtype=np.uint8)\n",
    "initBB=None\n",
    "cv2.namedWindow(winName,cv2.WINDOW_NORMAL)\n",
    "cv2.resizeWindow(winName,1000,600)\n",
    "cap=cv2.VideoCapture('TownCentreXVID.avi')\n",
    "while True:\n",
    "    hasFrame,frame=cap.read()\n",
    "    if frame is None:\n",
    "        break\n",
    "    \n",
    "    frameHeight=frame.shape[0]\n",
    "    frameWidth=frame.shape[1]\n",
    "    if initBB is not None:\n",
    "        (success,box)=tracker.update(frame)\n",
    "        \n",
    "        if success:\n",
    "            (x,y,w,h)=[int(v) for v in box]\n",
    "            cv2.rectangle(frame, (x, y), (x + w, y + h),(0, 0, 255), 2)\n",
    "            a=int((x+w)/6)\n",
    "            b=int((y+h)/6)\n",
    "            #print(a,b)\n",
    "            black_img=cv2.circle(black_window,(a,b),5,(255,255,255),-1)\n",
    "            black_img=cv2.putText(black_window,\"Tracing the path \",(10,160),cv2.FONT_HERSHEY_SIMPLEX, 1,(121,111,255),4)\n",
    "            cv2.imshow('Black',black_img)\n",
    "        else :\n",
    "        # Tracking failure\n",
    "            cv2.putText(frame, \"Failure to Detect Tracking!!\", (100,200), cv2.FONT_HERSHEY_SIMPLEX, 1,(0,0,255),3)\n",
    "            \n",
    "    \n",
    "            \n",
    "        blob=cv2.dnn.blobFromImage(frame, 1 / 255.0, (inpHeight, inpWidth),swapRB=True, crop=False)\n",
    "\n",
    "        net.setInput(blob)\n",
    "        outs=net.forward(getOutputsNames(net))\n",
    "        postprocess(frame,outs)\n",
    "    \n",
    "        \n",
    "    cv2.imshow(winName,frame)\n",
    "    \n",
    "    key = cv2.waitKey(1) & 0xFF\n",
    "    if (key == ord('s')):\n",
    "        initBB = cv2.selectROI(\"Frame\",frame, fromCenter=False,showCrosshair=True)\n",
    "        tracker.init(frame,initBB)\n",
    "    elif key==ord('q'):\n",
    "        break\n",
    "    \n",
    "    \n",
    "cap.release()\n",
    "cv2.destroyAllWindows()"
   ]
  },
  {
   "cell_type": "code",
   "execution_count": null,
   "metadata": {},
   "outputs": [],
   "source": []
  }
 ],
 "metadata": {
  "kernelspec": {
   "display_name": "Python 3",
   "language": "python",
   "name": "python3"
  },
  "language_info": {
   "codemirror_mode": {
    "name": "ipython",
    "version": 3
   },
   "file_extension": ".py",
   "mimetype": "text/x-python",
   "name": "python",
   "nbconvert_exporter": "python",
   "pygments_lexer": "ipython3",
   "version": "3.7.4"
  }
 },
 "nbformat": 4,
 "nbformat_minor": 4
}
