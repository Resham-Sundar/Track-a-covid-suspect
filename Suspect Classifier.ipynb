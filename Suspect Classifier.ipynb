{
 "cells": [
  {
   "cell_type": "code",
   "execution_count": 406,
   "metadata": {},
   "outputs": [],
   "source": [
    "import numpy as np \n",
    "import pandas as pd\n",
    "import matplotlib.pyplot as plt\n",
    "import seaborn as sns\n",
    "import warnings\n",
    "warnings.simplefilter('ignore')"
   ]
  },
  {
   "cell_type": "code",
   "execution_count": 407,
   "metadata": {},
   "outputs": [],
   "source": [
    "df=pd.read_csv('dataset.csv')"
   ]
  },
  {
   "cell_type": "code",
   "execution_count": 408,
   "metadata": {},
   "outputs": [
    {
     "name": "stdout",
     "output_type": "stream",
     "text": [
      "<class 'pandas.core.frame.DataFrame'>\n",
      "RangeIndex: 100 entries, 0 to 99\n",
      "Data columns (total 6 columns):\n",
      "Age                100 non-null int64\n",
      "Temperature        100 non-null float64\n",
      "State              100 non-null object\n",
      "Type of Visit      100 non-null object\n",
      "Number of Cases    100 non-null int64\n",
      "Suspect            100 non-null int64\n",
      "dtypes: float64(1), int64(3), object(2)\n",
      "memory usage: 4.8+ KB\n"
     ]
    }
   ],
   "source": [
    "df.info()"
   ]
  },
  {
   "cell_type": "code",
   "execution_count": 409,
   "metadata": {},
   "outputs": [
    {
     "data": {
      "text/html": [
       "<div>\n",
       "<style scoped>\n",
       "    .dataframe tbody tr th:only-of-type {\n",
       "        vertical-align: middle;\n",
       "    }\n",
       "\n",
       "    .dataframe tbody tr th {\n",
       "        vertical-align: top;\n",
       "    }\n",
       "\n",
       "    .dataframe thead th {\n",
       "        text-align: right;\n",
       "    }\n",
       "</style>\n",
       "<table border=\"1\" class=\"dataframe\">\n",
       "  <thead>\n",
       "    <tr style=\"text-align: right;\">\n",
       "      <th></th>\n",
       "      <th>Age</th>\n",
       "      <th>Temperature</th>\n",
       "      <th>State</th>\n",
       "      <th>Type of Visit</th>\n",
       "      <th>Number of Cases</th>\n",
       "      <th>Suspect</th>\n",
       "    </tr>\n",
       "  </thead>\n",
       "  <tbody>\n",
       "    <tr>\n",
       "      <td>0</td>\n",
       "      <td>20</td>\n",
       "      <td>98.6</td>\n",
       "      <td>Kerala</td>\n",
       "      <td>airport</td>\n",
       "      <td>561</td>\n",
       "      <td>0</td>\n",
       "    </tr>\n",
       "    <tr>\n",
       "      <td>1</td>\n",
       "      <td>34</td>\n",
       "      <td>98.6</td>\n",
       "      <td>Kerala</td>\n",
       "      <td>salon</td>\n",
       "      <td>561</td>\n",
       "      <td>0</td>\n",
       "    </tr>\n",
       "    <tr>\n",
       "      <td>2</td>\n",
       "      <td>43</td>\n",
       "      <td>100.0</td>\n",
       "      <td>Kerala</td>\n",
       "      <td>public_transport</td>\n",
       "      <td>561</td>\n",
       "      <td>0</td>\n",
       "    </tr>\n",
       "    <tr>\n",
       "      <td>3</td>\n",
       "      <td>45</td>\n",
       "      <td>101.0</td>\n",
       "      <td>Delhi</td>\n",
       "      <td>church</td>\n",
       "      <td>8470</td>\n",
       "      <td>1</td>\n",
       "    </tr>\n",
       "    <tr>\n",
       "      <td>4</td>\n",
       "      <td>24</td>\n",
       "      <td>98.6</td>\n",
       "      <td>Telangana</td>\n",
       "      <td>temple</td>\n",
       "      <td>1367</td>\n",
       "      <td>0</td>\n",
       "    </tr>\n",
       "  </tbody>\n",
       "</table>\n",
       "</div>"
      ],
      "text/plain": [
       "   Age  Temperature      State     Type of Visit  Number of Cases  Suspect\n",
       "0   20         98.6     Kerala           airport              561        0\n",
       "1   34         98.6     Kerala             salon              561        0\n",
       "2   43        100.0     Kerala  public_transport              561        0\n",
       "3   45        101.0      Delhi            church             8470        1\n",
       "4   24         98.6  Telangana            temple             1367        0"
      ]
     },
     "execution_count": 409,
     "metadata": {},
     "output_type": "execute_result"
    }
   ],
   "source": [
    "df.head()"
   ]
  },
  {
   "cell_type": "code",
   "execution_count": 410,
   "metadata": {},
   "outputs": [
    {
     "data": {
      "text/html": [
       "<div>\n",
       "<style scoped>\n",
       "    .dataframe tbody tr th:only-of-type {\n",
       "        vertical-align: middle;\n",
       "    }\n",
       "\n",
       "    .dataframe tbody tr th {\n",
       "        vertical-align: top;\n",
       "    }\n",
       "\n",
       "    .dataframe thead th {\n",
       "        text-align: right;\n",
       "    }\n",
       "</style>\n",
       "<table border=\"1\" class=\"dataframe\">\n",
       "  <thead>\n",
       "    <tr style=\"text-align: right;\">\n",
       "      <th></th>\n",
       "      <th>Age</th>\n",
       "      <th>Temperature</th>\n",
       "      <th>Number of Cases</th>\n",
       "      <th>Suspect</th>\n",
       "    </tr>\n",
       "  </thead>\n",
       "  <tbody>\n",
       "    <tr>\n",
       "      <td>count</td>\n",
       "      <td>100.000000</td>\n",
       "      <td>100.000000</td>\n",
       "      <td>100.000000</td>\n",
       "      <td>100.000000</td>\n",
       "    </tr>\n",
       "    <tr>\n",
       "      <td>mean</td>\n",
       "      <td>45.610000</td>\n",
       "      <td>99.848000</td>\n",
       "      <td>8435.100000</td>\n",
       "      <td>0.310000</td>\n",
       "    </tr>\n",
       "    <tr>\n",
       "      <td>std</td>\n",
       "      <td>20.641674</td>\n",
       "      <td>1.753869</td>\n",
       "      <td>10690.176284</td>\n",
       "      <td>0.464823</td>\n",
       "    </tr>\n",
       "    <tr>\n",
       "      <td>min</td>\n",
       "      <td>3.000000</td>\n",
       "      <td>98.600000</td>\n",
       "      <td>43.000000</td>\n",
       "      <td>0.000000</td>\n",
       "    </tr>\n",
       "    <tr>\n",
       "      <td>25%</td>\n",
       "      <td>27.000000</td>\n",
       "      <td>98.600000</td>\n",
       "      <td>745.500000</td>\n",
       "      <td>0.000000</td>\n",
       "    </tr>\n",
       "    <tr>\n",
       "      <td>50%</td>\n",
       "      <td>45.000000</td>\n",
       "      <td>98.600000</td>\n",
       "      <td>2981.500000</td>\n",
       "      <td>0.000000</td>\n",
       "    </tr>\n",
       "    <tr>\n",
       "      <td>75%</td>\n",
       "      <td>61.250000</td>\n",
       "      <td>101.050000</td>\n",
       "      <td>25992.000000</td>\n",
       "      <td>1.000000</td>\n",
       "    </tr>\n",
       "    <tr>\n",
       "      <td>max</td>\n",
       "      <td>96.000000</td>\n",
       "      <td>104.200000</td>\n",
       "      <td>25992.000000</td>\n",
       "      <td>1.000000</td>\n",
       "    </tr>\n",
       "  </tbody>\n",
       "</table>\n",
       "</div>"
      ],
      "text/plain": [
       "              Age  Temperature  Number of Cases     Suspect\n",
       "count  100.000000   100.000000       100.000000  100.000000\n",
       "mean    45.610000    99.848000      8435.100000    0.310000\n",
       "std     20.641674     1.753869     10690.176284    0.464823\n",
       "min      3.000000    98.600000        43.000000    0.000000\n",
       "25%     27.000000    98.600000       745.500000    0.000000\n",
       "50%     45.000000    98.600000      2981.500000    0.000000\n",
       "75%     61.250000   101.050000     25992.000000    1.000000\n",
       "max     96.000000   104.200000     25992.000000    1.000000"
      ]
     },
     "execution_count": 410,
     "metadata": {},
     "output_type": "execute_result"
    }
   ],
   "source": [
    "df.describe()"
   ]
  },
  {
   "cell_type": "code",
   "execution_count": 411,
   "metadata": {},
   "outputs": [
    {
     "data": {
      "text/plain": [
       "<matplotlib.axes._subplots.AxesSubplot at 0x2045b140988>"
      ]
     },
     "execution_count": 411,
     "metadata": {},
     "output_type": "execute_result"
    },
    {
     "data": {
      "image/png": "[encoded data removed]",
      "text/plain": [
       "<Figure size 432x288 with 2 Axes>"
      ]
     },
     "metadata": {
      "needs_background": "light"
     },
     "output_type": "display_data"
    }
   ],
   "source": [
    "sns.heatmap(df.corr())"
   ]
  },
  {
   "cell_type": "code",
   "execution_count": 412,
   "metadata": {},
   "outputs": [
    {
     "data": {
      "text/plain": [
       "array([  561,  8470,  1367,  4418,   807,  3758,    43,  9227,   971,\n",
       "         981, 25992,  1924,  2205], dtype=int64)"
      ]
     },
     "execution_count": 412,
     "metadata": {},
     "output_type": "execute_result"
    }
   ],
   "source": [
    "df['Number of Cases'].unique()"
   ]
  },
  {
   "cell_type": "code",
   "execution_count": 413,
   "metadata": {},
   "outputs": [],
   "source": [
    "lookup=dict(zip(df['State'],df['Number of Cases']))"
   ]
  },
  {
   "cell_type": "code",
   "execution_count": 414,
   "metadata": {},
   "outputs": [
    {
     "data": {
      "text/plain": [
       "[Text(0, 0, 'Maharashtra'),\n",
       " Text(0, 0, 'Kerala'),\n",
       " Text(0, 0, 'Haryana'),\n",
       " Text(0, 0, 'Uttar Pradesh'),\n",
       " Text(0, 0, 'Delhi'),\n",
       " Text(0, 0, 'Karnataka'),\n",
       " Text(0, 0, 'Rajasthan'),\n",
       " Text(0, 0, 'Ladakh'),\n",
       " Text(0, 0, 'Jammu and Kashmir'),\n",
       " Text(0, 0, 'Punjab'),\n",
       " Text(0, 0, 'Tamil Nadu'),\n",
       " Text(0, 0, 'Telangana'),\n",
       " Text(0, 0, 'Andhra Pradesh')]"
      ]
     },
     "execution_count": 414,
     "metadata": {},
     "output_type": "execute_result"
    },
    {
     "data": {
      "image/png": "[encoded data removed]",
      "text/plain": [
       "<Figure size 1008x576 with 1 Axes>"
      ]
     },
     "metadata": {
      "needs_background": "light"
     },
     "output_type": "display_data"
    }
   ],
   "source": [
    "fig,ax=plt.subplots(figsize=(14,8))\n",
    "g=sns.countplot(x='State',hue='Suspect',data=df,ax=ax,order=df['State'].value_counts().index,palette=['y','c'])\n",
    "g.set_xticklabels(g.get_xticklabels(), rotation=90)"
   ]
  },
  {
   "cell_type": "code",
   "execution_count": 415,
   "metadata": {},
   "outputs": [
    {
     "data": {
      "text/plain": [
       "<seaborn.axisgrid.FacetGrid at 0x2045b4776c8>"
      ]
     },
     "execution_count": 415,
     "metadata": {},
     "output_type": "execute_result"
    },
    {
     "data": {
      "image/png": "[encoded data removed]",
      "text/plain": [
       "<Figure size 911.625x216 with 1 Axes>"
      ]
     },
     "metadata": {
      "needs_background": "light"
     },
     "output_type": "display_data"
    }
   ],
   "source": [
    "facet=sns.FacetGrid(df,hue='Suspect',aspect=4)\n",
    "facet.map(sns.kdeplot,'Age',shade=True)\n",
    "facet.set(xlim=(0,df['Age'].max()))\n",
    "facet.add_legend()"
   ]
  },
  {
   "cell_type": "code",
   "execution_count": 416,
   "metadata": {},
   "outputs": [
    {
     "data": {
      "text/plain": [
       "[Text(0, 0, 'hospital'),\n",
       " Text(0, 0, 'salon'),\n",
       " Text(0, 0, 'restaurant'),\n",
       " Text(0, 0, 'temple'),\n",
       " Text(0, 0, 'pharmacy'),\n",
       " Text(0, 0, 'church'),\n",
       " Text(0, 0, 'etc'),\n",
       " Text(0, 0, 'airport'),\n",
       " Text(0, 0, 'public_market'),\n",
       " Text(0, 0, 'store'),\n",
       " Text(0, 0, 'public_transport'),\n",
       " Text(0, 0, 'railway_station')]"
      ]
     },
     "execution_count": 416,
     "metadata": {},
     "output_type": "execute_result"
    },
    {
     "data": {
      "image/png": "[encoded data removed]",
      "text/plain": [
       "<Figure size 1008x576 with 1 Axes>"
      ]
     },
     "metadata": {
      "needs_background": "light"
     },
     "output_type": "display_data"
    }
   ],
   "source": [
    "fig,ax=plt.subplots(figsize=(14,8))\n",
    "g=sns.countplot(x='Type of Visit',hue='Suspect',data=df,ax=ax,order=df['Type of Visit'].value_counts().index,palette=['g','r'])\n",
    "g.set_xticklabels(g.get_xticklabels(), rotation=90)"
   ]
  },
  {
   "cell_type": "code",
   "execution_count": 417,
   "metadata": {},
   "outputs": [
    {
     "data": {
      "text/plain": [
       "array([  561,  8470,  1367,  4418,   807,  3758,    43,  9227,   971,\n",
       "         981, 25992,  1924,  2205], dtype=int64)"
      ]
     },
     "execution_count": 417,
     "metadata": {},
     "output_type": "execute_result"
    }
   ],
   "source": [
    "df['Number of Cases'].unique()"
   ]
  },
  {
   "cell_type": "code",
   "execution_count": 418,
   "metadata": {},
   "outputs": [
    {
     "data": {
      "text/plain": [
       "[Text(0, 0, 'Kerala'),\n",
       " Text(0, 0, 'Delhi'),\n",
       " Text(0, 0, 'Telangana'),\n",
       " Text(0, 0, 'Rajasthan'),\n",
       " Text(0, 0, 'Haryana'),\n",
       " Text(0, 0, 'Uttar Pradesh'),\n",
       " Text(0, 0, 'Ladakh'),\n",
       " Text(0, 0, 'Tamil Nadu'),\n",
       " Text(0, 0, 'Jammu and Kashmir'),\n",
       " Text(0, 0, 'Karnataka'),\n",
       " Text(0, 0, 'Maharashtra'),\n",
       " Text(0, 0, 'Punjab'),\n",
       " Text(0, 0, 'Andhra Pradesh')]"
      ]
     },
     "execution_count": 418,
     "metadata": {},
     "output_type": "execute_result"
    },
    {
     "data": {
      "image/png": "[encoded data removed]",
      "text/plain": [
       "<Figure size 1008x576 with 1 Axes>"
      ]
     },
     "metadata": {
      "needs_background": "light"
     },
     "output_type": "display_data"
    }
   ],
   "source": [
    "fig,ax=plt.subplots(figsize=(14,8))\n",
    "g=sns.barplot(x='State',y='Number of Cases',data=df,ax=ax,)\n",
    "g.set_xticklabels(g.get_xticklabels(), rotation=90)"
   ]
  },
  {
   "cell_type": "code",
   "execution_count": 419,
   "metadata": {},
   "outputs": [],
   "source": [
    "for i in range(len(df)):\n",
    "    if ((df['Age'][i]>=0) and (df['Age'][i]<=10)):\n",
    "        df['Age'][i]=0\n",
    "    elif ((df['Age'][i]>10) and (df['Age'][i]<=20)):\n",
    "        df['Age'][i]=1\n",
    "    elif ((df['Age'][i]>20) and (df['Age'][i]<=30)):\n",
    "        df['Age'][i]=2\n",
    "    elif ((df['Age'][i]>30) and (df['Age'][i]<=40)):\n",
    "        df['Age'][i]=3\n",
    "    elif ((df['Age'][i]>40) and (df['Age'][i]<=50)):\n",
    "        df['Age'][i]=4\n",
    "    elif ((df['Age'][i]>50) and (df['Age'][i]<=60)):\n",
    "        df['Age'][i]=5\n",
    "    elif ((df['Age'][i]>60) and (df['Age'][i]<=70)):\n",
    "        df['Age'][i]=6\n",
    "    elif ((df['Age'][i]>70) and (df['Age'][i]<=80)):\n",
    "        df['Age'][i]=7\n",
    "    elif ((df['Age'][i]>80) and (df['Age'][i]<=90)):\n",
    "        df['Age'][i]=8\n",
    "    else:\n",
    "        df['Age'][i]=9"
   ]
  },
  {
   "cell_type": "code",
   "execution_count": 420,
   "metadata": {},
   "outputs": [],
   "source": [
    "Type_of_visit_mapping={'airport':0,'salon':1,'public_transport':2,'church':3,'temple':4,\n",
    "                       'hospital':5,'store':6,'public_market':7,'pharmacy':8,'railway_station':9,'restaurant':10,'etc':11}\n",
    "data=[df]\n",
    "for row in data:\n",
    "    row['Type of Visit']=row['Type of Visit'].map(Type_of_visit_mapping)"
   ]
  },
  {
   "cell_type": "code",
   "execution_count": 421,
   "metadata": {},
   "outputs": [],
   "source": [
    "for row in data:\n",
    "    row.loc[(row['Number of Cases'] >=0) & (row['Number of Cases'] <=500),'risk']=0\n",
    "    row.loc[(row['Number of Cases'] >500) & (row['Number of Cases'] <=2000),'risk']=1\n",
    "    row.loc[(row['Number of Cases'] >2000) & (row['Number of Cases'] <=5000),'risk']=2\n",
    "    row.loc[(row['Number of Cases'] >5000),'risk']=3"
   ]
  },
  {
   "cell_type": "code",
   "execution_count": 422,
   "metadata": {},
   "outputs": [
    {
     "data": {
      "text/plain": [
       "0     1.0\n",
       "1     1.0\n",
       "2     1.0\n",
       "3     3.0\n",
       "4     1.0\n",
       "     ... \n",
       "95    3.0\n",
       "96    3.0\n",
       "97    3.0\n",
       "98    3.0\n",
       "99    3.0\n",
       "Name: risk, Length: 100, dtype: float64"
      ]
     },
     "execution_count": 422,
     "metadata": {},
     "output_type": "execute_result"
    }
   ],
   "source": [
    "df['risk']"
   ]
  },
  {
   "cell_type": "code",
   "execution_count": 423,
   "metadata": {},
   "outputs": [
    {
     "data": {
      "text/html": [
       "<div>\n",
       "<style scoped>\n",
       "    .dataframe tbody tr th:only-of-type {\n",
       "        vertical-align: middle;\n",
       "    }\n",
       "\n",
       "    .dataframe tbody tr th {\n",
       "        vertical-align: top;\n",
       "    }\n",
       "\n",
       "    .dataframe thead th {\n",
       "        text-align: right;\n",
       "    }\n",
       "</style>\n",
       "<table border=\"1\" class=\"dataframe\">\n",
       "  <thead>\n",
       "    <tr style=\"text-align: right;\">\n",
       "      <th></th>\n",
       "      <th>Age</th>\n",
       "      <th>Temperature</th>\n",
       "      <th>State</th>\n",
       "      <th>Type of Visit</th>\n",
       "      <th>Number of Cases</th>\n",
       "      <th>Suspect</th>\n",
       "      <th>risk</th>\n",
       "    </tr>\n",
       "  </thead>\n",
       "  <tbody>\n",
       "    <tr>\n",
       "      <td>0</td>\n",
       "      <td>1</td>\n",
       "      <td>98.6</td>\n",
       "      <td>Kerala</td>\n",
       "      <td>0</td>\n",
       "      <td>561</td>\n",
       "      <td>0</td>\n",
       "      <td>1.0</td>\n",
       "    </tr>\n",
       "    <tr>\n",
       "      <td>1</td>\n",
       "      <td>3</td>\n",
       "      <td>98.6</td>\n",
       "      <td>Kerala</td>\n",
       "      <td>1</td>\n",
       "      <td>561</td>\n",
       "      <td>0</td>\n",
       "      <td>1.0</td>\n",
       "    </tr>\n",
       "    <tr>\n",
       "      <td>2</td>\n",
       "      <td>4</td>\n",
       "      <td>100.0</td>\n",
       "      <td>Kerala</td>\n",
       "      <td>2</td>\n",
       "      <td>561</td>\n",
       "      <td>0</td>\n",
       "      <td>1.0</td>\n",
       "    </tr>\n",
       "    <tr>\n",
       "      <td>3</td>\n",
       "      <td>4</td>\n",
       "      <td>101.0</td>\n",
       "      <td>Delhi</td>\n",
       "      <td>3</td>\n",
       "      <td>8470</td>\n",
       "      <td>1</td>\n",
       "      <td>3.0</td>\n",
       "    </tr>\n",
       "    <tr>\n",
       "      <td>4</td>\n",
       "      <td>2</td>\n",
       "      <td>98.6</td>\n",
       "      <td>Telangana</td>\n",
       "      <td>4</td>\n",
       "      <td>1367</td>\n",
       "      <td>0</td>\n",
       "      <td>1.0</td>\n",
       "    </tr>\n",
       "    <tr>\n",
       "      <td>...</td>\n",
       "      <td>...</td>\n",
       "      <td>...</td>\n",
       "      <td>...</td>\n",
       "      <td>...</td>\n",
       "      <td>...</td>\n",
       "      <td>...</td>\n",
       "      <td>...</td>\n",
       "    </tr>\n",
       "    <tr>\n",
       "      <td>95</td>\n",
       "      <td>5</td>\n",
       "      <td>98.6</td>\n",
       "      <td>Maharashtra</td>\n",
       "      <td>3</td>\n",
       "      <td>25992</td>\n",
       "      <td>0</td>\n",
       "      <td>3.0</td>\n",
       "    </tr>\n",
       "    <tr>\n",
       "      <td>96</td>\n",
       "      <td>2</td>\n",
       "      <td>102.3</td>\n",
       "      <td>Maharashtra</td>\n",
       "      <td>5</td>\n",
       "      <td>25992</td>\n",
       "      <td>0</td>\n",
       "      <td>3.0</td>\n",
       "    </tr>\n",
       "    <tr>\n",
       "      <td>97</td>\n",
       "      <td>4</td>\n",
       "      <td>100.0</td>\n",
       "      <td>Maharashtra</td>\n",
       "      <td>8</td>\n",
       "      <td>25992</td>\n",
       "      <td>1</td>\n",
       "      <td>3.0</td>\n",
       "    </tr>\n",
       "    <tr>\n",
       "      <td>98</td>\n",
       "      <td>1</td>\n",
       "      <td>98.6</td>\n",
       "      <td>Maharashtra</td>\n",
       "      <td>10</td>\n",
       "      <td>25992</td>\n",
       "      <td>0</td>\n",
       "      <td>3.0</td>\n",
       "    </tr>\n",
       "    <tr>\n",
       "      <td>99</td>\n",
       "      <td>5</td>\n",
       "      <td>100.2</td>\n",
       "      <td>Maharashtra</td>\n",
       "      <td>1</td>\n",
       "      <td>25992</td>\n",
       "      <td>1</td>\n",
       "      <td>3.0</td>\n",
       "    </tr>\n",
       "  </tbody>\n",
       "</table>\n",
       "<p>100 rows × 7 columns</p>\n",
       "</div>"
      ],
      "text/plain": [
       "    Age  Temperature        State  Type of Visit  Number of Cases  Suspect  \\\n",
       "0     1         98.6       Kerala              0              561        0   \n",
       "1     3         98.6       Kerala              1              561        0   \n",
       "2     4        100.0       Kerala              2              561        0   \n",
       "3     4        101.0        Delhi              3             8470        1   \n",
       "4     2         98.6    Telangana              4             1367        0   \n",
       "..  ...          ...          ...            ...              ...      ...   \n",
       "95    5         98.6  Maharashtra              3            25992        0   \n",
       "96    2        102.3  Maharashtra              5            25992        0   \n",
       "97    4        100.0  Maharashtra              8            25992        1   \n",
       "98    1         98.6  Maharashtra             10            25992        0   \n",
       "99    5        100.2  Maharashtra              1            25992        1   \n",
       "\n",
       "    risk  \n",
       "0    1.0  \n",
       "1    1.0  \n",
       "2    1.0  \n",
       "3    3.0  \n",
       "4    1.0  \n",
       "..   ...  \n",
       "95   3.0  \n",
       "96   3.0  \n",
       "97   3.0  \n",
       "98   3.0  \n",
       "99   3.0  \n",
       "\n",
       "[100 rows x 7 columns]"
      ]
     },
     "execution_count": 423,
     "metadata": {},
     "output_type": "execute_result"
    }
   ],
   "source": [
    "df.dropna(axis=1)"
   ]
  },
  {
   "cell_type": "code",
   "execution_count": 424,
   "metadata": {},
   "outputs": [],
   "source": [
    "from sklearn.tree import DecisionTreeClassifier\n",
    "from sklearn.model_selection import train_test_split"
   ]
  },
  {
   "cell_type": "code",
   "execution_count": 425,
   "metadata": {},
   "outputs": [],
   "source": [
    "X=df.loc[:,['Age','Temperature','Type of Visit','risk']]\n",
    "y=df.loc[:,'Suspect']\n",
    "X_train, X_test, y_train, y_test=train_test_split(X,y,test_size=0.10, random_state=0)"
   ]
  },
  {
   "cell_type": "code",
   "execution_count": 433,
   "metadata": {},
   "outputs": [
    {
     "data": {
      "text/plain": [
       "DecisionTreeClassifier(class_weight=None, criterion='gini', max_depth=2,\n",
       "                       max_features=None, max_leaf_nodes=None,\n",
       "                       min_impurity_decrease=0.0, min_impurity_split=None,\n",
       "                       min_samples_leaf=2, min_samples_split=2,\n",
       "                       min_weight_fraction_leaf=0.0, presort=False,\n",
       "                       random_state=0, splitter='best')"
      ]
     },
     "execution_count": 433,
     "metadata": {},
     "output_type": "execute_result"
    }
   ],
   "source": [
    "classifier=DecisionTreeClassifier(min_samples_leaf=2,max_depth=2,random_state=0)\n",
    "classifier.fit(X_train,y_train)"
   ]
  },
  {
   "cell_type": "code",
   "execution_count": 434,
   "metadata": {},
   "outputs": [],
   "source": [
    "y_pred=classifier.predict(X_test)"
   ]
  },
  {
   "cell_type": "code",
   "execution_count": 435,
   "metadata": {},
   "outputs": [],
   "source": [
    "from sklearn.metrics import confusion_matrix\n",
    "cm=confusion_matrix(y_test, y_pred)"
   ]
  },
  {
   "cell_type": "code",
   "execution_count": 436,
   "metadata": {},
   "outputs": [
    {
     "data": {
      "text/plain": [
       "array([[5, 0],\n",
       "       [3, 2]], dtype=int64)"
      ]
     },
     "execution_count": 436,
     "metadata": {},
     "output_type": "execute_result"
    }
   ],
   "source": [
    "cm"
   ]
  }
 ],
 "metadata": {
  "kernelspec": {
   "display_name": "Python 3",
   "language": "python",
   "name": "python3"
  },
  "language_info": {
   "codemirror_mode": {
    "name": "ipython",
    "version": 3
   },
   "file_extension": ".py",
   "mimetype": "text/x-python",
   "name": "python",
   "nbconvert_exporter": "python",
   "pygments_lexer": "ipython3",
   "version": "3.7.4"
  }
 },
 "nbformat": 4,
 "nbformat_minor": 4
}
